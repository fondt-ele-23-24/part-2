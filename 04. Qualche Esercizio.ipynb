{
 "cells": [
  {
   "cell_type": "markdown",
   "metadata": {
    "slideshow": {
     "slide_type": "slide"
    }
   },
   "source": [
    "# Qualche Esercizio"
   ]
  },
  {
   "cell_type": "markdown",
   "metadata": {
    "slideshow": {
     "slide_type": "subslide"
    }
   },
   "source": [
    "## Esempio: Valori di un Polinomio\n",
    "\n",
    "**Si valuti il valore della seguente espressione per $x = 2$**\n",
    "\n",
    "$$\n",
    "x^3 - 3x + 2x\n",
    "$$"
   ]
  },
  {
   "cell_type": "code",
   "execution_count": 3,
   "metadata": {},
   "outputs": [
    {
     "name": "stdout",
     "output_type": "stream",
     "text": [
      "L'espressione vale: 0\n"
     ]
    }
   ],
   "source": [
    "x = 1\n",
    "y = x**3 - 3 * x + 2 * x\n",
    "print(f\"L'espressione vale: {y}\")"
   ]
  },
  {
   "cell_type": "markdown",
   "metadata": {},
   "source": [
    "Si osservi come il valore dell'espressione cambia per:\n",
    "\n",
    "* $x = 0$\n",
    "* $x = 0.5$\n",
    "* $x = 1$"
   ]
  },
  {
   "cell_type": "markdown",
   "metadata": {
    "slideshow": {
     "slide_type": "subslide"
    }
   },
   "source": [
    "## Esercizio: Polinomio e Sua Derivata\n",
    "\n",
    "**Si considerino le seguenti espressioni**\n",
    "\n",
    "...Rappresentanti un polinomio e la sua derivata\n",
    "\n",
    "$$\n",
    "y = x^2 - 2x \\qquad y^\\prime = 2x - 2\n",
    "$$\n",
    "\n",
    "* Se ne stampi il valore per $x = 0, x = 1, x = 2$\n",
    "* Si ri-esegua ogni volta la stessa cella (invece di ri-scrivere i calcoli)"
   ]
  },
  {
   "cell_type": "code",
   "execution_count": null,
   "metadata": {},
   "outputs": [],
   "source": []
  },
  {
   "cell_type": "markdown",
   "metadata": {
    "slideshow": {
     "slide_type": "subslide"
    }
   },
   "source": [
    "## Esercizio: Integrale Definito\n",
    "\n",
    "**Si consideri il seguente integrale definito:**\n",
    "\n",
    "$$\n",
    "\\int_{0}^{b} x^3 - 3x^2 = \\left[\\frac{1}{4}x^4 - x^3\\right]_{0}^{b} = \\frac{1}{4}b^4 - b^3\n",
    "$$\n",
    "\n",
    "* Se ne stampi il valore per $b = 0, b = 2, b = 4$\n",
    "* Si ri-esegua ogni volta la stessa cella (invece di ri-scrivere i calcoli)"
   ]
  },
  {
   "cell_type": "code",
   "execution_count": null,
   "metadata": {},
   "outputs": [],
   "source": []
  },
  {
   "cell_type": "markdown",
   "metadata": {
    "slideshow": {
     "slide_type": "subslide"
    }
   },
   "source": [
    "## Esempio: Espressione Logica Semplice\n",
    "\n",
    "**Si consideri la seguente espressione logica:**\n",
    "\n",
    "$$\n",
    "pranzo = fame \\wedge (cibo \\vee soldi \\vee amici\\_generosi)\n",
    "$$\n",
    "\n",
    "* Dove $\\wedge$ indica \"and\" e $\\vee$ indica \"or\"\n",
    "* Se ne stampi il valore per diversi valori di $fame$, $cibo$, $soldi$ e $amici\\_generosi$\n",
    "* Si ri-esegua ogni volta la stessa cella (invece di ri-scrivere i calcoli)"
   ]
  },
  {
   "cell_type": "code",
   "execution_count": 5,
   "metadata": {},
   "outputs": [
    {
     "name": "stdout",
     "output_type": "stream",
     "text": [
      "pranzo: True\n"
     ]
    }
   ],
   "source": [
    "fame = True\n",
    "cibo = False\n",
    "soldi = False\n",
    "amici_generosi = True\n",
    "pranzo = fame and (cibo or soldi or amici_generosi)\n",
    "print(f\"pranzo: {pranzo}\")"
   ]
  },
  {
   "cell_type": "markdown",
   "metadata": {
    "slideshow": {
     "slide_type": "subslide"
    }
   },
   "source": [
    "## Esercizio: Espressione Logica\n",
    "\n",
    "**Si consideri la seguente espressione logica:**\n",
    "\n",
    "$$\n",
    "esco = \\neg malato \\wedge (\\neg piove \\vee ombrello)\n",
    "$$\n",
    "\n",
    "* Dove $\\neg$ indica \"not\"\n",
    "* Se ne stampi il valore per diversi valori di $malato$, $piove$, $ombrello$\n",
    "* Si ri-esegua ogni volta la stessa cella (invece di ri-scrivere i calcoli)"
   ]
  },
  {
   "cell_type": "code",
   "execution_count": null,
   "metadata": {},
   "outputs": [],
   "source": []
  },
  {
   "cell_type": "markdown",
   "metadata": {
    "slideshow": {
     "slide_type": "subslide"
    }
   },
   "source": [
    "## Esercizio: Espressione Calcolata per Passi\n",
    "\n",
    "**Si consideri la seguente espressione:**\n",
    "\n",
    "$$\n",
    "\\left|\\frac{2}{3}\\sqrt{3(x^{-1}-4)^3} - x |x - 2|\\right|\n",
    "$$\n",
    "\n",
    "* Se ne calcoli il valore per passi, dividendola in espressioni più semplici\n",
    "* E.g. si definisca $A = x |x-2|$\n",
    "* Si valuti il valore dell'espressione per $x = 0$, $x = 1$, $x = 2$, $x = 4$, $x = 6$\n",
    "* Si ri-esegua ogni volta la stessa cella (invece di ri-scrivere i calcoli)"
   ]
  },
  {
   "cell_type": "code",
   "execution_count": 8,
   "metadata": {},
   "outputs": [
    {
     "ename": "ZeroDivisionError",
     "evalue": "0.0 cannot be raised to a negative power",
     "output_type": "error",
     "traceback": [
      "\u001b[0;31m---------------------------------------------------------------------------\u001b[0m",
      "\u001b[0;31mZeroDivisionError\u001b[0m                         Traceback (most recent call last)",
      "Cell \u001b[0;32mIn[8], line 3\u001b[0m\n\u001b[1;32m      1\u001b[0m x \u001b[38;5;241m=\u001b[39m \u001b[38;5;241m0\u001b[39m\n\u001b[1;32m      2\u001b[0m A \u001b[38;5;241m=\u001b[39m x \u001b[38;5;241m*\u001b[39m \u001b[38;5;28mabs\u001b[39m(x\u001b[38;5;241m-\u001b[39m\u001b[38;5;241m2\u001b[39m)\n\u001b[0;32m----> 3\u001b[0m B \u001b[38;5;241m=\u001b[39m \u001b[38;5;241m3\u001b[39m \u001b[38;5;241m*\u001b[39m (\u001b[43mx\u001b[49m\u001b[38;5;241;43m*\u001b[39;49m\u001b[38;5;241;43m*\u001b[39;49m\u001b[43m(\u001b[49m\u001b[38;5;241;43m-\u001b[39;49m\u001b[38;5;241;43m1\u001b[39;49m\u001b[43m)\u001b[49m \u001b[38;5;241m-\u001b[39m \u001b[38;5;241m4\u001b[39m)\u001b[38;5;241m*\u001b[39m\u001b[38;5;241m*\u001b[39m\u001b[38;5;241m3\u001b[39m\n\u001b[1;32m      4\u001b[0m C \u001b[38;5;241m=\u001b[39m \u001b[38;5;241m2\u001b[39m \u001b[38;5;241m/\u001b[39m \u001b[38;5;241m3\u001b[39m \u001b[38;5;241m*\u001b[39m B\u001b[38;5;241m*\u001b[39m\u001b[38;5;241m*\u001b[39m(\u001b[38;5;241m0.5\u001b[39m)\n\u001b[1;32m      5\u001b[0m y \u001b[38;5;241m=\u001b[39m \u001b[38;5;28mabs\u001b[39m(C \u001b[38;5;241m-\u001b[39m A)\n",
      "\u001b[0;31mZeroDivisionError\u001b[0m: 0.0 cannot be raised to a negative power"
     ]
    }
   ],
   "source": [
    "x = 0\n",
    "A = x * abs(x-2)\n",
    "B = 3 * (x**(-1) - 4)**3\n",
    "C = 2 / 3 * B**(0.5)\n",
    "y = abs(C - A)\n",
    "print(f\"L'espressione vale: {y}\")"
   ]
  },
  {
   "cell_type": "code",
   "execution_count": null,
   "metadata": {},
   "outputs": [],
   "source": []
  },
  {
   "cell_type": "code",
   "execution_count": null,
   "metadata": {},
   "outputs": [],
   "source": []
  }
 ],
 "metadata": {
  "celltoolbar": "Slideshow",
  "kernelspec": {
   "display_name": "Python 3 (ipykernel)",
   "language": "python",
   "name": "python3"
  },
  "language_info": {
   "codemirror_mode": {
    "name": "ipython",
    "version": 3
   },
   "file_extension": ".py",
   "mimetype": "text/x-python",
   "name": "python",
   "nbconvert_exporter": "python",
   "pygments_lexer": "ipython3",
   "version": "3.10.8"
  },
  "rise": {
   "center": false,
   "enable_chalkboard": true,
   "transition": "fade"
  }
 },
 "nbformat": 4,
 "nbformat_minor": 4
}
